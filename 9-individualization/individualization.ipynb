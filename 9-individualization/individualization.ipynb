{
 "cells": [
  {
   "cell_type": "code",
   "execution_count": 1,
   "metadata": {},
   "outputs": [],
   "source": [
    "import argparse\n",
    "from time import time\n",
    "import IO\n",
    "from utils import *\n",
    "import networkx as nx\n",
    "import subprocess as sproc\n",
    "from classes import *\n",
    "import os\n",
    "import time"
   ]
  },
  {
   "cell_type": "code",
   "execution_count": 2,
   "metadata": {},
   "outputs": [],
   "source": [
    "def label_triangles(triangles):\n",
    "\n",
    "    for tri in triangles:\n",
    "        label0 = tri.v1.label_parcel\n",
    "        label1 = tri.v2.label_parcel\n",
    "        label2 = tri.v3.label_parcel\n",
    "\n",
    "        if (label0 == label1 == label2):\n",
    "            tri.label_parcel = label2\n",
    "        elif (label0 == label1 and label0!=label2):\n",
    "            tri.label_parcel = label0\n",
    "        elif (label1 == label2 and (label1!= label0)):\n",
    "            tri.label_parcel = label1\n",
    "        elif (label0 == label2) and (label0!=label1):\n",
    "            tri.label_parcel = label0\n",
    "        else:\n",
    "            tri.label_parcel = label0\n",
    "\n",
    "    return triangles"
   ]
  },
  {
   "cell_type": "code",
   "execution_count": 3,
   "metadata": {},
   "outputs": [
    {
     "name": "stderr",
     "output_type": "stream",
     "text": [
      "usage: ipykernel_launcher.py [-h] [--Intersection-dir INTERSECTION_DIR]\n",
      "                             [--LVtk-file LVTK_FILE] [--RVtk-file RVTK_FILE]\n",
      "                             [--Lvlabels-file LVLABELS_FILE]\n",
      "                             [--Rvlabels-file RVLABELS_FILE]\n",
      "                             [--parcel-names PARCEL_NAMES]\n",
      "                             [--output-dir OUTPUT_DIR]\n",
      "                             [--traceability TRACEABILITY]\n",
      "                             [--size-thr SIZE_THR] [--dc-thr DC_THR]\n",
      "                             [--idc IDC] [--ero ERO] [--dil DIL]\n",
      "ipykernel_launcher.py: error: unrecognized arguments: --ip=127.0.0.1 --stdin=9003 --control=9001 --hb=9000 --Session.signature_scheme=\"hmac-sha256\" --Session.key=b\"fa89b301-b5be-4df4-a5d6-4971cd2182df\" --shell=9002 --transport=\"tcp\" --iopub=9004 --f=c:\\Users\\max_m\\AppData\\Roaming\\jupyter\\runtime\\kernel-v2-6172ZuxhI2hIr7Im.json\n"
     ]
    },
    {
     "ename": "SystemExit",
     "evalue": "2",
     "output_type": "error",
     "traceback": [
      "An exception has occurred, use %tb to see the full traceback.\n",
      "\u001b[1;31mSystemExit\u001b[0m\u001b[1;31m:\u001b[0m 2\n"
     ]
    },
    {
     "name": "stderr",
     "output_type": "stream",
     "text": [
      "c:\\Users\\max_m\\AppData\\Local\\Programs\\Python\\Python310\\lib\\site-packages\\IPython\\core\\interactiveshell.py:3406: UserWarning: To exit: use 'exit', 'quit', or Ctrl-D.\n",
      "  warn(\"To exit: use 'exit', 'quit', or Ctrl-D.\", stacklevel=1)\n"
     ]
    }
   ],
   "source": [
    "parser = argparse.ArgumentParser(description='Create parcel of single subject')\n",
    "parser.add_argument('--Intersection-dir',type= str,help='Input intersection directory')\n",
    "parser.add_argument('--LVtk-file', type=str, help='Input file with the vtk')\n",
    "parser.add_argument('--RVtk-file', type=str, help='Input file with the vtk')\n",
    "parser.add_argument('--Lvlabels-file',type= str,help='Input file with the vertex labels')\n",
    "parser.add_argument('--Rvlabels-file',type= str,help='Input file with the vertex labels')\n",
    "parser.add_argument('--parcel-names',type= str, help='Input file with the names of the parcels')\n",
    "parser.add_argument('--output-dir', type=str, help='Output directory')\n",
    "parser.add_argument('--traceability',type= str, default='y', help='Write y, to obtain the traceability of the parcels')\n",
    "parser.add_argument('--size-thr', type=float, default='0.1',help='Size to delete small parcels')\n",
    "parser.add_argument('--dc-thr', type=float, default='0.15',help='Less probable triangles in a parcel (probability)')\n",
    "parser.add_argument('--idc', type=float, default='0.1',help='Percent of common triangles in the intersection of two density centers')\n",
    "parser.add_argument('--ero', type=int, default='1',help='Erosion threshold')\n",
    "parser.add_argument('--dil', type=int, default='6',help='Dilation threshold')\n",
    "args = parser.parse_args()\n",
    "start = time.time()"
   ]
  }
 ],
 "metadata": {
  "kernelspec": {
   "display_name": "Python 3",
   "language": "python",
   "name": "python3"
  },
  "language_info": {
   "codemirror_mode": {
    "name": "ipython",
    "version": 3
   },
   "file_extension": ".py",
   "mimetype": "text/x-python",
   "name": "python",
   "nbconvert_exporter": "python",
   "pygments_lexer": "ipython3",
   "version": "3.10.5"
  },
  "orig_nbformat": 4
 },
 "nbformat": 4,
 "nbformat_minor": 2
}
